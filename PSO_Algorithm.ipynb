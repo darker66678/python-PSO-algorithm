{
 "cells": [
  {
   "cell_type": "code",
   "execution_count": 1,
   "source": [
    "import math\r\n",
    "import random\r\n",
    "import numpy as np\r\n",
    "import matplotlib.pyplot as plt\r\n",
    "import pylab as mpl\r\n",
    "mpl.rcParams['font.sans-serif'] = ['SimHei']\r\n",
    "import time"
   ],
   "outputs": [],
   "metadata": {}
  },
  {
   "cell_type": "markdown",
   "source": [
    "# Objective function"
   ],
   "metadata": {}
  },
  {
   "cell_type": "code",
   "execution_count": 2,
   "source": [
    "def fitness(x,y):\r\n",
    "    z = x**2+2*y**2-0.3*math.cos(3*math.pi*x)*math.cos(4*math.pi*y)+0.3\r\n",
    "    #print(z)\r\n",
    "    return z"
   ],
   "outputs": [],
   "metadata": {}
  },
  {
   "cell_type": "markdown",
   "source": [
    "# Initial solution"
   ],
   "metadata": {}
  },
  {
   "cell_type": "code",
   "execution_count": 3,
   "source": [
    "def initialize(size,dimension,x,v,limit,v_high,v_low,p_best,g_best,n):\r\n",
    "    for i in range(size):\r\n",
    "        for j in range(dimension):\r\n",
    "            x[i][j] = random.uniform(limit[0], limit[1])\r\n",
    "            v[i][j] = random.uniform(v_low, v_high)\r\n",
    "            p_best[i][j] = x[i][j]  # 儲存最佳的解\r\n",
    "    # 做出修改\r\n",
    "        if fitness(p_best[i][0],p_best[i][1]) < n:\r\n",
    "            g_best[0] = p_best[i][0]\r\n",
    "            g_best[1] = p_best[i][1]\r\n",
    "            n=fitness(g_best[0],g_best[1])"
   ],
   "outputs": [],
   "metadata": {}
  },
  {
   "cell_type": "markdown",
   "source": [
    "# Update(velocity & location)"
   ],
   "metadata": {}
  },
  {
   "cell_type": "code",
   "execution_count": 4,
   "source": [
    "def update(size,x,v,p_best,g_best,limit,c1,c2,w):\r\n",
    "    for i in range(size):\r\n",
    "        for j in range(dimension):\r\n",
    "            # 更新速度(核心公式)\r\n",
    "            v[i][j] = w * v[i][j] + c1 * random.uniform(0, 1) * ( \r\n",
    "                p_best[i][j] - x[i][j]) + c2 * random.uniform(0, 1) * (g_best[j] - x[i][j])\r\n",
    "            # 更新位置\r\n",
    "            x[i][j] = x[i][j] + v[i][j]\r\n",
    "            # 位置限制\r\n",
    "            if(x[i][j]>limit[1]):\r\n",
    "                x[i][j]=limit[1]\r\n",
    "            if(x[i][j]<limit[0]):\r\n",
    "                x[i][j]=limit[0]   "
   ],
   "outputs": [],
   "metadata": {}
  },
  {
   "cell_type": "markdown",
   "source": [
    "# Update best solution and Update (velocity & location)"
   ],
   "metadata": {}
  },
  {
   "cell_type": "code",
   "execution_count": 5,
   "source": [
    "def PSO(size,x,v,p_best,g_best,limit,c1,c2,w,max_it,it,best):\r\n",
    "    while(it<max_it):\r\n",
    "        for i in range(size):\r\n",
    "            if fitness(x[i][0],x[i][1])<fitness(p_best[i][0],p_best[i][1]):\r\n",
    "                p_best[i][0]=x[i][0]\r\n",
    "                p_best[i][1]=x[i][1]\r\n",
    "            if fitness(p_best[i][0],p_best[i][1])<fitness(g_best[0],g_best[1]):\r\n",
    "                g_best[0]=p_best[i][0]\r\n",
    "                g_best[1]=p_best[i][1]\r\n",
    "        best.append(fitness(g_best[0],g_best[1]))    \r\n",
    "        update(size,x,v,p_best,g_best,limit,c1,c2,w)\r\n",
    "        it=it+1"
   ],
   "outputs": [],
   "metadata": {}
  },
  {
   "cell_type": "markdown",
   "source": [
    "# Main program"
   ],
   "metadata": {}
  },
  {
   "cell_type": "code",
   "execution_count": 23,
   "source": [
    "#參數設置\r\n",
    "size = 1000 # 粒子群大小\r\n",
    "dimension = 2  # 變數個數\r\n",
    "v_low = -1\r\n",
    "v_high = 1\r\n",
    "limit = [-100, 100]\r\n",
    "x = np.zeros((size, dimension))  # 所有粒子的位置\r\n",
    "v = np.zeros((size, dimension))  # 所有粒子的速度\r\n",
    "p_best = np.zeros((size, dimension))  # 每個粒子最佳的位置\r\n",
    "g_best = np.zeros((dimension))  # 全局最佳的位置\r\n",
    "c1 = 2.0  # 學習因子\r\n",
    "c2 = 2.0\r\n",
    "w = 0.8   # 自身權重因子\r\n",
    "it=0 #迭代次數\r\n",
    "max_it =100 #停止迭代條件\r\n",
    "n=1000\r\n",
    "best=[]\r\n",
    "best_n=0\r\n",
    "#PSO演算法\r\n",
    "tStart = time.time()\r\n",
    "initialize(size,dimension,x,v,limit,v_high,v_low,p_best,g_best,n)\r\n",
    "PSO(size,x,v,p_best,g_best,limit,c1,c2,w,max_it,it,best)\r\n",
    "tEnd = time.time()\r\n",
    "print('最佳解：',g_best)            \r\n",
    "print('目標函數：',fitness(g_best[0],g_best[1]))\r\n",
    "print('花費時間：',tEnd - tStart)\r\n",
    "\r\n",
    "#畫畫\r\n",
    "plt.title(\"PSO Algorithm\", fontsize=20)\r\n",
    "plt.xlabel(\"iteration\", fontsize=15, labelpad = 15)\r\n",
    "plt.ylabel(\"f(gb)\", fontsize=15, labelpad = 20)\r\n",
    "plt.plot(best,color = 'b')"
   ],
   "outputs": [
    {
     "output_type": "stream",
     "name": "stdout",
     "text": [
      "最佳解： [ 0.00055024 -0.00024163]\n",
      "目標函數： 5.836541899006953e-06\n",
      "花費時間： 3.0470149517059326\n"
     ]
    },
    {
     "output_type": "execute_result",
     "data": {
      "text/plain": [
       "[<matplotlib.lines.Line2D at 0x22535589988>]"
      ]
     },
     "metadata": {},
     "execution_count": 23
    },
    {
     "output_type": "display_data",
     "data": {
      "text/plain": [
       "<Figure size 432x288 with 1 Axes>"
      ],
      "image/png": "[encoded data removed]"
     },
     "metadata": {
      "needs_background": "light"
     }
    }
   ],
   "metadata": {}
  },
  {
   "cell_type": "code",
   "execution_count": null,
   "source": [],
   "outputs": [],
   "metadata": {}
  }
 ],
 "metadata": {
  "kernelspec": {
   "display_name": "Python 3",
   "language": "python",
   "name": "python3"
  },
  "language_info": {
   "codemirror_mode": {
    "name": "ipython",
    "version": 3
   },
   "file_extension": ".py",
   "mimetype": "text/x-python",
   "name": "python",
   "nbconvert_exporter": "python",
   "pygments_lexer": "ipython3",
   "version": "3.7.4"
  }
 },
 "nbformat": 4,
 "nbformat_minor": 2
}