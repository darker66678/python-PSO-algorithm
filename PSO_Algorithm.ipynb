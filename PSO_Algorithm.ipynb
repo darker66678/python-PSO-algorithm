{
 "cells": [
  {
   "cell_type": "code",
   "execution_count": 1,
   "metadata": {},
   "outputs": [],
   "source": [
    "import math\n",
    "import random\n",
    "import numpy as np\n",
    "import matplotlib.pyplot as plt\n",
    "import pylab as mpl\n",
    "mpl.rcParams['font.sans-serif'] = ['SimHei']\n",
    "import time"
   ]
  },
  {
   "cell_type": "markdown",
   "metadata": {},
   "source": [
    "# 目標函數"
   ]
  },
  {
   "cell_type": "code",
   "execution_count": 2,
   "metadata": {},
   "outputs": [],
   "source": [
    "def fitness(x,y):\n",
    "    z = x**2+2*y**2-0.3*math.cos(3*math.pi*x)*math.cos(4*math.pi*y)+0.3\n",
    "    #print(z)\n",
    "    return z"
   ]
  },
  {
   "cell_type": "markdown",
   "metadata": {},
   "source": [
    "# 起始解"
   ]
  },
  {
   "cell_type": "code",
   "execution_count": 3,
   "metadata": {},
   "outputs": [],
   "source": [
    "def initialize(size,dimension,x,v,limit,v_high,v_low,p_best,g_best,n):\n",
    "    for i in range(size):\n",
    "        for j in range(dimension):\n",
    "            x[i][j] = random.uniform(limit[0], limit[1])\n",
    "            v[i][j] = random.uniform(v_low, v_high)\n",
    "            p_best[i][j] = x[i][j]  # 儲存最佳的解\n",
    "    # 做出修改\n",
    "        if fitness(p_best[i][0],p_best[i][1]) < n:\n",
    "            g_best[0] = p_best[i][0]\n",
    "            g_best[1] = p_best[i][1]\n",
    "            n=fitness(g_best[0],g_best[1])"
   ]
  },
  {
   "cell_type": "markdown",
   "metadata": {},
   "source": [
    "# 更新速度&位置"
   ]
  },
  {
   "cell_type": "code",
   "execution_count": 4,
   "metadata": {},
   "outputs": [],
   "source": [
    "def update(size,x,v,p_best,g_best,limit,c1,c2,w):\n",
    "    for i in range(size):\n",
    "        for j in range(dimension):\n",
    "            # 更新速度(核心公式)\n",
    "            v[i][j] = w * v[i][j] + c1 * random.uniform(0, 1) * ( \n",
    "                p_best[i][j] - x[i][j]) + c2 * random.uniform(0, 1) * (g_best[j] - x[i][j])\n",
    "            # 更新位置\n",
    "            x[i][j] = x[i][j] + v[i][j]\n",
    "            # 位置限制\n",
    "            if(x[i][j]>limit[1]):\n",
    "                x[i][j]=limit[1]\n",
    "            if(x[i][j]<limit[0]):\n",
    "                x[i][j]=limit[0]   "
   ]
  },
  {
   "cell_type": "markdown",
   "metadata": {},
   "source": [
    "# 更新最佳解+更新速度&位置"
   ]
  },
  {
   "cell_type": "code",
   "execution_count": 5,
   "metadata": {},
   "outputs": [],
   "source": [
    "def PSO(size,x,v,p_best,g_best,limit,c1,c2,w,max_it,it,best):\n",
    "    while(it<max_it):\n",
    "        for i in range(size):\n",
    "            if fitness(x[i][0],x[i][1])<fitness(p_best[i][0],p_best[i][1]):\n",
    "                p_best[i][0]=x[i][0]\n",
    "                p_best[i][1]=x[i][1]\n",
    "            if fitness(p_best[i][0],p_best[i][1])<fitness(g_best[0],g_best[1]):\n",
    "                g_best[0]=p_best[i][0]\n",
    "                g_best[1]=p_best[i][1]\n",
    "        best.append(fitness(g_best[0],g_best[1]))    \n",
    "        update(size,x,v,p_best,g_best,limit,c1,c2,w)\n",
    "        it=it+1"
   ]
  },
  {
   "cell_type": "markdown",
   "metadata": {},
   "source": [
    "# 主程式"
   ]
  },
  {
   "cell_type": "code",
   "execution_count": 23,
   "metadata": {},
   "outputs": [
    {
     "name": "stdout",
     "output_type": "stream",
     "text": [
      "最佳解： [ 0.00055024 -0.00024163]\n",
      "目標函數： 5.836541899006953e-06\n",
      "花費時間： 3.0470149517059326\n"
     ]
    },
    {
     "data": {
      "text/plain": [
       "[<matplotlib.lines.Line2D at 0x22535589988>]"
      ]
     },
     "execution_count": 23,
     "metadata": {},
     "output_type": "execute_result"
    },
    {
     "data": {
      "image/png": "[encoded data removed]",
      "text/plain": [
       "<Figure size 432x288 with 1 Axes>"
      ]
     },
     "metadata": {
      "needs_background": "light"
     },
     "output_type": "display_data"
    }
   ],
   "source": [
    "#參數設置\n",
    "size = 1000 # 粒子群大小\n",
    "dimension = 2  # 變數個數\n",
    "v_low = -1\n",
    "v_high = 1\n",
    "limit = [-100, 100]\n",
    "x = np.zeros((size, dimension))  # 所有粒子的位置\n",
    "v = np.zeros((size, dimension))  # 所有粒子的速度\n",
    "p_best = np.zeros((size, dimension))  # 每個粒子最佳的位置\n",
    "g_best = np.zeros((dimension))  # 全局最佳的位置\n",
    "c1 = 2.0  # 學習因子\n",
    "c2 = 2.0\n",
    "w = 0.8   # 自身權重因子\n",
    "it=0 #迭代次數\n",
    "max_it =100 #停止迭代條件\n",
    "n=1000\n",
    "best=[]\n",
    "best_n=0\n",
    "#PSO演算法\n",
    "tStart = time.time()\n",
    "initialize(size,dimension,x,v,limit,v_high,v_low,p_best,g_best,n)\n",
    "PSO(size,x,v,p_best,g_best,limit,c1,c2,w,max_it,it,best)\n",
    "tEnd = time.time()\n",
    "print('最佳解：',g_best)            \n",
    "print('目標函數：',fitness(g_best[0],g_best[1]))\n",
    "print('花費時間：',tEnd - tStart)\n",
    "\n",
    "#畫畫\n",
    "plt.title(\"PSO Algorithm\", fontsize=20)\n",
    "plt.xlabel(\"iteration\", fontsize=15, labelpad = 15)\n",
    "plt.ylabel(\"f(gb)\", fontsize=15, labelpad = 20)\n",
    "plt.plot(best,color = 'b')"
   ]
  },
  {
   "cell_type": "code",
   "execution_count": null,
   "metadata": {},
   "outputs": [],
   "source": []
  }
 ],
 "metadata": {
  "kernelspec": {
   "display_name": "Python 3",
   "language": "python",
   "name": "python3"
  },
  "language_info": {
   "codemirror_mode": {
    "name": "ipython",
    "version": 3
   },
   "file_extension": ".py",
   "mimetype": "text/x-python",
   "name": "python",
   "nbconvert_exporter": "python",
   "pygments_lexer": "ipython3",
   "version": "3.7.4"
  }
 },
 "nbformat": 4,
 "nbformat_minor": 2
}
